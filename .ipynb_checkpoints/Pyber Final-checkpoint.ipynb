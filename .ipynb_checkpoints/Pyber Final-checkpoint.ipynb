{
 "cells": [
  {
   "cell_type": "markdown",
   "metadata": {},
   "source": [
    "PYBER \n",
    "observable trends:\n",
    " as expected there are is a lot more ride sharing in an urban setting, but the fare per ride is generally greater in   a rural setting\n",
    " there is a disproportionately high number of drivers in an urban setting\n",
    " there is a dispropotionatley low number of drivers in a rural setting\n",
    " it might be easier to find a ride in an urban setting, but in a rural setting it could be easier to make a living"
   ]
  },
  {
   "cell_type": "code",
   "execution_count": 1,
   "metadata": {},
   "outputs": [
    {
     "data": {
      "text/html": [
       "<div>\n",
       "<style scoped>\n",
       "    .dataframe tbody tr th:only-of-type {\n",
       "        vertical-align: middle;\n",
       "    }\n",
       "\n",
       "    .dataframe tbody tr th {\n",
       "        vertical-align: top;\n",
       "    }\n",
       "\n",
       "    .dataframe thead th {\n",
       "        text-align: right;\n",
       "    }\n",
       "</style>\n",
       "<table border=\"1\" class=\"dataframe\">\n",
       "  <thead>\n",
       "    <tr style=\"text-align: right;\">\n",
       "      <th></th>\n",
       "      <th>city</th>\n",
       "      <th>date</th>\n",
       "      <th>fare</th>\n",
       "      <th>ride_id</th>\n",
       "    </tr>\n",
       "  </thead>\n",
       "  <tbody>\n",
       "    <tr>\n",
       "      <th>0</th>\n",
       "      <td>Lake Jonathanshire</td>\n",
       "      <td>2018-01-14 10:14:22</td>\n",
       "      <td>13.83</td>\n",
       "      <td>5739410935873</td>\n",
       "    </tr>\n",
       "    <tr>\n",
       "      <th>1</th>\n",
       "      <td>South Michelleport</td>\n",
       "      <td>2018-03-04 18:24:09</td>\n",
       "      <td>30.24</td>\n",
       "      <td>2343912425577</td>\n",
       "    </tr>\n",
       "    <tr>\n",
       "      <th>2</th>\n",
       "      <td>Port Samanthamouth</td>\n",
       "      <td>2018-02-24 04:29:00</td>\n",
       "      <td>33.44</td>\n",
       "      <td>2005065760003</td>\n",
       "    </tr>\n",
       "    <tr>\n",
       "      <th>3</th>\n",
       "      <td>Rodneyfort</td>\n",
       "      <td>2018-02-10 23:22:03</td>\n",
       "      <td>23.44</td>\n",
       "      <td>5149245426178</td>\n",
       "    </tr>\n",
       "    <tr>\n",
       "      <th>4</th>\n",
       "      <td>South Jack</td>\n",
       "      <td>2018-03-06 04:28:35</td>\n",
       "      <td>34.58</td>\n",
       "      <td>3908451377344</td>\n",
       "    </tr>\n",
       "  </tbody>\n",
       "</table>\n",
       "</div>"
      ],
      "text/plain": [
       "                 city                 date   fare        ride_id\n",
       "0  Lake Jonathanshire  2018-01-14 10:14:22  13.83  5739410935873\n",
       "1  South Michelleport  2018-03-04 18:24:09  30.24  2343912425577\n",
       "2  Port Samanthamouth  2018-02-24 04:29:00  33.44  2005065760003\n",
       "3          Rodneyfort  2018-02-10 23:22:03  23.44  5149245426178\n",
       "4          South Jack  2018-03-06 04:28:35  34.58  3908451377344"
      ]
     },
     "execution_count": 1,
     "metadata": {},
     "output_type": "execute_result"
    }
   ],
   "source": [
    "%matplotlib inline\n",
    "# Dependencies and Setup\n",
    "import matplotlib.pyplot as plt\n",
    "import pandas as pd\n",
    "import numpy as np\n",
    "\n",
    "# File to Load (Remember to change these)\n",
    "city_data_to_load = \"city_data.csv\"\n",
    "ride_data_to_load = \"ride_data.csv\"\n",
    "\n",
    "# Read the City and Ride Data\n",
    "city_data = pd.read_csv(city_data_to_load)\n",
    "ride_data = pd.read_csv(ride_data_to_load)\n",
    "city_data.tail()\n",
    "ride_data.head()\n",
    "\n",
    "#city_data.count()\n",
    "#ride_data.count()\n",
    "\n",
    "# Combine the data into a single dataset\n",
    "\n",
    "# Display the data table for preview\n"
   ]
  },
  {
   "cell_type": "code",
   "execution_count": 2,
   "metadata": {
    "scrolled": true
   },
   "outputs": [
    {
     "data": {
      "text/html": [
       "<div>\n",
       "<style scoped>\n",
       "    .dataframe tbody tr th:only-of-type {\n",
       "        vertical-align: middle;\n",
       "    }\n",
       "\n",
       "    .dataframe tbody tr th {\n",
       "        vertical-align: top;\n",
       "    }\n",
       "\n",
       "    .dataframe thead th {\n",
       "        text-align: right;\n",
       "    }\n",
       "</style>\n",
       "<table border=\"1\" class=\"dataframe\">\n",
       "  <thead>\n",
       "    <tr style=\"text-align: right;\">\n",
       "      <th></th>\n",
       "      <th>city</th>\n",
       "      <th>driver_count</th>\n",
       "      <th>type</th>\n",
       "      <th>date</th>\n",
       "      <th>fare</th>\n",
       "      <th>ride_id</th>\n",
       "    </tr>\n",
       "  </thead>\n",
       "  <tbody>\n",
       "    <tr>\n",
       "      <th>0</th>\n",
       "      <td>Richardfort</td>\n",
       "      <td>38</td>\n",
       "      <td>Urban</td>\n",
       "      <td>2018-02-24 08:40:38</td>\n",
       "      <td>13.93</td>\n",
       "      <td>5628545007794</td>\n",
       "    </tr>\n",
       "    <tr>\n",
       "      <th>1</th>\n",
       "      <td>Richardfort</td>\n",
       "      <td>38</td>\n",
       "      <td>Urban</td>\n",
       "      <td>2018-02-13 12:46:07</td>\n",
       "      <td>14.00</td>\n",
       "      <td>910050116494</td>\n",
       "    </tr>\n",
       "    <tr>\n",
       "      <th>2</th>\n",
       "      <td>Richardfort</td>\n",
       "      <td>38</td>\n",
       "      <td>Urban</td>\n",
       "      <td>2018-02-16 13:52:19</td>\n",
       "      <td>17.92</td>\n",
       "      <td>820639054416</td>\n",
       "    </tr>\n",
       "    <tr>\n",
       "      <th>3</th>\n",
       "      <td>Richardfort</td>\n",
       "      <td>38</td>\n",
       "      <td>Urban</td>\n",
       "      <td>2018-02-01 20:18:28</td>\n",
       "      <td>10.26</td>\n",
       "      <td>9554935945413</td>\n",
       "    </tr>\n",
       "    <tr>\n",
       "      <th>4</th>\n",
       "      <td>Richardfort</td>\n",
       "      <td>38</td>\n",
       "      <td>Urban</td>\n",
       "      <td>2018-04-17 02:26:37</td>\n",
       "      <td>23.00</td>\n",
       "      <td>720020655850</td>\n",
       "    </tr>\n",
       "  </tbody>\n",
       "</table>\n",
       "</div>"
      ],
      "text/plain": [
       "          city  driver_count   type                 date   fare        ride_id\n",
       "0  Richardfort            38  Urban  2018-02-24 08:40:38  13.93  5628545007794\n",
       "1  Richardfort            38  Urban  2018-02-13 12:46:07  14.00   910050116494\n",
       "2  Richardfort            38  Urban  2018-02-16 13:52:19  17.92   820639054416\n",
       "3  Richardfort            38  Urban  2018-02-01 20:18:28  10.26  9554935945413\n",
       "4  Richardfort            38  Urban  2018-04-17 02:26:37  23.00   720020655850"
      ]
     },
     "execution_count": 2,
     "metadata": {},
     "output_type": "execute_result"
    }
   ],
   "source": [
    "merged_table = pd.merge(city_data,ride_data,on=\"city\",how=\"outer\")\n",
    "#merged_table.count()\n",
    "merged_table.head()"
   ]
  },
  {
   "cell_type": "markdown",
   "metadata": {},
   "source": [
    "## Bubble Plot of Ride Sharing Data"
   ]
  },
  {
   "cell_type": "code",
   "execution_count": 3,
   "metadata": {},
   "outputs": [],
   "source": [
    "# Obtain the x and y coordinates for each of the three city types\n",
    "\n",
    "# Build the scatter plots for each city types\n",
    "\n",
    "# Incorporate the other graph properties\n",
    "\n",
    "# Create a legend\n",
    "\n",
    "# Incorporate a text label regarding circle size\n",
    "\n",
    "# Save Figure\n"
   ]
  },
  {
   "cell_type": "code",
   "execution_count": 4,
   "metadata": {},
   "outputs": [
    {
     "data": {
      "text/html": [
       "<div>\n",
       "<style scoped>\n",
       "    .dataframe tbody tr th:only-of-type {\n",
       "        vertical-align: middle;\n",
       "    }\n",
       "\n",
       "    .dataframe tbody tr th {\n",
       "        vertical-align: top;\n",
       "    }\n",
       "\n",
       "    .dataframe thead th {\n",
       "        text-align: right;\n",
       "    }\n",
       "</style>\n",
       "<table border=\"1\" class=\"dataframe\">\n",
       "  <thead>\n",
       "    <tr style=\"text-align: right;\">\n",
       "      <th></th>\n",
       "      <th>city</th>\n",
       "      <th>driver_count</th>\n",
       "      <th>type</th>\n",
       "      <th>date</th>\n",
       "      <th>fare</th>\n",
       "      <th>ride_id</th>\n",
       "    </tr>\n",
       "  </thead>\n",
       "  <tbody>\n",
       "    <tr>\n",
       "      <th>0</th>\n",
       "      <td>Richardfort</td>\n",
       "      <td>38</td>\n",
       "      <td>Urban</td>\n",
       "      <td>2018-02-24 08:40:38</td>\n",
       "      <td>13.93</td>\n",
       "      <td>5628545007794</td>\n",
       "    </tr>\n",
       "    <tr>\n",
       "      <th>1</th>\n",
       "      <td>Richardfort</td>\n",
       "      <td>38</td>\n",
       "      <td>Urban</td>\n",
       "      <td>2018-02-13 12:46:07</td>\n",
       "      <td>14.00</td>\n",
       "      <td>910050116494</td>\n",
       "    </tr>\n",
       "    <tr>\n",
       "      <th>2</th>\n",
       "      <td>Richardfort</td>\n",
       "      <td>38</td>\n",
       "      <td>Urban</td>\n",
       "      <td>2018-02-16 13:52:19</td>\n",
       "      <td>17.92</td>\n",
       "      <td>820639054416</td>\n",
       "    </tr>\n",
       "    <tr>\n",
       "      <th>3</th>\n",
       "      <td>Richardfort</td>\n",
       "      <td>38</td>\n",
       "      <td>Urban</td>\n",
       "      <td>2018-02-01 20:18:28</td>\n",
       "      <td>10.26</td>\n",
       "      <td>9554935945413</td>\n",
       "    </tr>\n",
       "    <tr>\n",
       "      <th>4</th>\n",
       "      <td>Richardfort</td>\n",
       "      <td>38</td>\n",
       "      <td>Urban</td>\n",
       "      <td>2018-04-17 02:26:37</td>\n",
       "      <td>23.00</td>\n",
       "      <td>720020655850</td>\n",
       "    </tr>\n",
       "  </tbody>\n",
       "</table>\n",
       "</div>"
      ],
      "text/plain": [
       "          city  driver_count   type                 date   fare        ride_id\n",
       "0  Richardfort            38  Urban  2018-02-24 08:40:38  13.93  5628545007794\n",
       "1  Richardfort            38  Urban  2018-02-13 12:46:07  14.00   910050116494\n",
       "2  Richardfort            38  Urban  2018-02-16 13:52:19  17.92   820639054416\n",
       "3  Richardfort            38  Urban  2018-02-01 20:18:28  10.26  9554935945413\n",
       "4  Richardfort            38  Urban  2018-04-17 02:26:37  23.00   720020655850"
      ]
     },
     "execution_count": 4,
     "metadata": {},
     "output_type": "execute_result"
    }
   ],
   "source": [
    "# create a data frame with only city type= \"urban\" data\n",
    "urban_data_df = merged_table[merged_table['type']==\"Urban\"]\n",
    "urban_data_df.head()"
   ]
  },
  {
   "cell_type": "code",
   "execution_count": 5,
   "metadata": {},
   "outputs": [
    {
     "data": {
      "text/html": [
       "<div>\n",
       "<style scoped>\n",
       "    .dataframe tbody tr th:only-of-type {\n",
       "        vertical-align: middle;\n",
       "    }\n",
       "\n",
       "    .dataframe tbody tr th {\n",
       "        vertical-align: top;\n",
       "    }\n",
       "\n",
       "    .dataframe thead th {\n",
       "        text-align: right;\n",
       "    }\n",
       "</style>\n",
       "<table border=\"1\" class=\"dataframe\">\n",
       "  <thead>\n",
       "    <tr style=\"text-align: right;\">\n",
       "      <th></th>\n",
       "      <th>count</th>\n",
       "      <th>mean</th>\n",
       "    </tr>\n",
       "    <tr>\n",
       "      <th>city</th>\n",
       "      <th></th>\n",
       "      <th></th>\n",
       "    </tr>\n",
       "  </thead>\n",
       "  <tbody>\n",
       "    <tr>\n",
       "      <th>Amandaburgh</th>\n",
       "      <td>18.0</td>\n",
       "      <td>24.641667</td>\n",
       "    </tr>\n",
       "    <tr>\n",
       "      <th>Barajasview</th>\n",
       "      <td>22.0</td>\n",
       "      <td>25.332273</td>\n",
       "    </tr>\n",
       "    <tr>\n",
       "      <th>Carriemouth</th>\n",
       "      <td>27.0</td>\n",
       "      <td>28.314444</td>\n",
       "    </tr>\n",
       "    <tr>\n",
       "      <th>Christopherfurt</th>\n",
       "      <td>27.0</td>\n",
       "      <td>24.501852</td>\n",
       "    </tr>\n",
       "    <tr>\n",
       "      <th>Deanville</th>\n",
       "      <td>19.0</td>\n",
       "      <td>25.842632</td>\n",
       "    </tr>\n",
       "  </tbody>\n",
       "</table>\n",
       "</div>"
      ],
      "text/plain": [
       "                 count       mean\n",
       "city                             \n",
       "Amandaburgh       18.0  24.641667\n",
       "Barajasview       22.0  25.332273\n",
       "Carriemouth       27.0  28.314444\n",
       "Christopherfurt   27.0  24.501852\n",
       "Deanville         19.0  25.842632"
      ]
     },
     "execution_count": 5,
     "metadata": {},
     "output_type": "execute_result"
    }
   ],
   "source": [
    "# group 'urban' data by city and fare\n",
    "\n",
    "groupby_city_urban = urban_data_df['fare'].groupby(urban_data_df['city'])\n",
    "\n",
    "list(urban_data_df['fare'].groupby(urban_data_df['city']))\n",
    "\n",
    "# get average fair and delete unneccessary columns\n",
    "\n",
    "urban_city_df =pd.DataFrame(groupby_city_urban.describe())\n",
    "del urban_city_df['std']\n",
    "del urban_city_df['min']\n",
    "del urban_city_df['25%']\n",
    "del urban_city_df['50%']\n",
    "del urban_city_df['75%']\n",
    "del urban_city_df['max']\n",
    "\n",
    "\n",
    "\n",
    "urban_city_df.head()"
   ]
  },
  {
   "cell_type": "code",
   "execution_count": 6,
   "metadata": {},
   "outputs": [
    {
     "data": {
      "text/html": [
       "<div>\n",
       "<style scoped>\n",
       "    .dataframe tbody tr th:only-of-type {\n",
       "        vertical-align: middle;\n",
       "    }\n",
       "\n",
       "    .dataframe tbody tr th {\n",
       "        vertical-align: top;\n",
       "    }\n",
       "\n",
       "    .dataframe thead th {\n",
       "        text-align: right;\n",
       "    }\n",
       "</style>\n",
       "<table border=\"1\" class=\"dataframe\">\n",
       "  <thead>\n",
       "    <tr style=\"text-align: right;\">\n",
       "      <th></th>\n",
       "      <th>city</th>\n",
       "      <th>count</th>\n",
       "      <th>mean</th>\n",
       "      <th>driver_count</th>\n",
       "      <th>type</th>\n",
       "    </tr>\n",
       "  </thead>\n",
       "  <tbody>\n",
       "    <tr>\n",
       "      <th>0</th>\n",
       "      <td>Amandaburgh</td>\n",
       "      <td>18.0</td>\n",
       "      <td>24.641667</td>\n",
       "      <td>12</td>\n",
       "      <td>Urban</td>\n",
       "    </tr>\n",
       "    <tr>\n",
       "      <th>1</th>\n",
       "      <td>Barajasview</td>\n",
       "      <td>22.0</td>\n",
       "      <td>25.332273</td>\n",
       "      <td>26</td>\n",
       "      <td>Urban</td>\n",
       "    </tr>\n",
       "    <tr>\n",
       "      <th>2</th>\n",
       "      <td>Carriemouth</td>\n",
       "      <td>27.0</td>\n",
       "      <td>28.314444</td>\n",
       "      <td>52</td>\n",
       "      <td>Urban</td>\n",
       "    </tr>\n",
       "    <tr>\n",
       "      <th>3</th>\n",
       "      <td>Christopherfurt</td>\n",
       "      <td>27.0</td>\n",
       "      <td>24.501852</td>\n",
       "      <td>41</td>\n",
       "      <td>Urban</td>\n",
       "    </tr>\n",
       "    <tr>\n",
       "      <th>4</th>\n",
       "      <td>Deanville</td>\n",
       "      <td>19.0</td>\n",
       "      <td>25.842632</td>\n",
       "      <td>49</td>\n",
       "      <td>Urban</td>\n",
       "    </tr>\n",
       "  </tbody>\n",
       "</table>\n",
       "</div>"
      ],
      "text/plain": [
       "              city  count       mean  driver_count   type\n",
       "0      Amandaburgh   18.0  24.641667            12  Urban\n",
       "1      Barajasview   22.0  25.332273            26  Urban\n",
       "2      Carriemouth   27.0  28.314444            52  Urban\n",
       "3  Christopherfurt   27.0  24.501852            41  Urban\n",
       "4        Deanville   19.0  25.842632            49  Urban"
      ]
     },
     "execution_count": 6,
     "metadata": {},
     "output_type": "execute_result"
    }
   ],
   "source": [
    "# execute an inner merge between urban_city_df and city_data to aquire the infor necessary for graph\n",
    "urban_df = pd.merge(urban_city_df,city_data,on=\"city\",how=\"inner\")\n",
    "urban_df.head()\n",
    "\n",
    "\n"
   ]
  },
  {
   "cell_type": "code",
   "execution_count": 7,
   "metadata": {},
   "outputs": [
    {
     "data": {
      "text/html": [
       "<div>\n",
       "<style scoped>\n",
       "    .dataframe tbody tr th:only-of-type {\n",
       "        vertical-align: middle;\n",
       "    }\n",
       "\n",
       "    .dataframe tbody tr th {\n",
       "        vertical-align: top;\n",
       "    }\n",
       "\n",
       "    .dataframe thead th {\n",
       "        text-align: right;\n",
       "    }\n",
       "</style>\n",
       "<table border=\"1\" class=\"dataframe\">\n",
       "  <thead>\n",
       "    <tr style=\"text-align: right;\">\n",
       "      <th></th>\n",
       "      <th>city</th>\n",
       "      <th>count</th>\n",
       "      <th>mean</th>\n",
       "      <th>driver_count</th>\n",
       "      <th>type</th>\n",
       "    </tr>\n",
       "  </thead>\n",
       "  <tbody>\n",
       "    <tr>\n",
       "      <th>0</th>\n",
       "      <td>Barronchester</td>\n",
       "      <td>16.0</td>\n",
       "      <td>36.422500</td>\n",
       "      <td>11</td>\n",
       "      <td>Suburban</td>\n",
       "    </tr>\n",
       "    <tr>\n",
       "      <th>1</th>\n",
       "      <td>Bethanyland</td>\n",
       "      <td>18.0</td>\n",
       "      <td>32.956111</td>\n",
       "      <td>22</td>\n",
       "      <td>Suburban</td>\n",
       "    </tr>\n",
       "    <tr>\n",
       "      <th>2</th>\n",
       "      <td>Brandonfort</td>\n",
       "      <td>19.0</td>\n",
       "      <td>35.437368</td>\n",
       "      <td>10</td>\n",
       "      <td>Suburban</td>\n",
       "    </tr>\n",
       "    <tr>\n",
       "      <th>3</th>\n",
       "      <td>Colemanland</td>\n",
       "      <td>22.0</td>\n",
       "      <td>30.894545</td>\n",
       "      <td>23</td>\n",
       "      <td>Suburban</td>\n",
       "    </tr>\n",
       "    <tr>\n",
       "      <th>4</th>\n",
       "      <td>Davidfurt</td>\n",
       "      <td>17.0</td>\n",
       "      <td>31.995882</td>\n",
       "      <td>23</td>\n",
       "      <td>Suburban</td>\n",
       "    </tr>\n",
       "  </tbody>\n",
       "</table>\n",
       "</div>"
      ],
      "text/plain": [
       "            city  count       mean  driver_count      type\n",
       "0  Barronchester   16.0  36.422500            11  Suburban\n",
       "1    Bethanyland   18.0  32.956111            22  Suburban\n",
       "2    Brandonfort   19.0  35.437368            10  Suburban\n",
       "3    Colemanland   22.0  30.894545            23  Suburban\n",
       "4      Davidfurt   17.0  31.995882            23  Suburban"
      ]
     },
     "execution_count": 7,
     "metadata": {},
     "output_type": "execute_result"
    }
   ],
   "source": [
    "# repeat the last three blocks of code for the Suburban data\n",
    "suburban_data_df = merged_table[merged_table['type']==\"Suburban\"]\n",
    "suburban_data_df.head()\n",
    "groupby_city_suburban = suburban_data_df['fare'].groupby(suburban_data_df['city'])\n",
    "\n",
    "list(suburban_data_df['fare'].groupby(suburban_data_df['city']))\n",
    "\n",
    "suburban_city_df =pd.DataFrame(groupby_city_suburban.describe())\n",
    "del suburban_city_df['std']\n",
    "del suburban_city_df['min']\n",
    "del suburban_city_df['25%']\n",
    "del suburban_city_df['50%']\n",
    "del suburban_city_df['75%']\n",
    "del suburban_city_df['max']\n",
    "\n",
    "suburban_df = pd.merge(suburban_city_df,city_data,on=\"city\",how=\"inner\")\n",
    "suburban_df.head()\n",
    "\n",
    "#suburban_df.plot(kind=\"scatter\", x=\"count\", y=\"mean\", grid=True,s=(suburban_df['driver_count']*10),color=\"Blue\",alpha=.4)\n"
   ]
  },
  {
   "cell_type": "code",
   "execution_count": 8,
   "metadata": {},
   "outputs": [
    {
     "data": {
      "text/html": [
       "<div>\n",
       "<style scoped>\n",
       "    .dataframe tbody tr th:only-of-type {\n",
       "        vertical-align: middle;\n",
       "    }\n",
       "\n",
       "    .dataframe tbody tr th {\n",
       "        vertical-align: top;\n",
       "    }\n",
       "\n",
       "    .dataframe thead th {\n",
       "        text-align: right;\n",
       "    }\n",
       "</style>\n",
       "<table border=\"1\" class=\"dataframe\">\n",
       "  <thead>\n",
       "    <tr style=\"text-align: right;\">\n",
       "      <th></th>\n",
       "      <th>city</th>\n",
       "      <th>count</th>\n",
       "      <th>mean</th>\n",
       "      <th>driver_count</th>\n",
       "      <th>type</th>\n",
       "    </tr>\n",
       "  </thead>\n",
       "  <tbody>\n",
       "    <tr>\n",
       "      <th>0</th>\n",
       "      <td>Bradshawfurt</td>\n",
       "      <td>10.0</td>\n",
       "      <td>40.064000</td>\n",
       "      <td>7</td>\n",
       "      <td>Rural</td>\n",
       "    </tr>\n",
       "    <tr>\n",
       "      <th>1</th>\n",
       "      <td>Garzaport</td>\n",
       "      <td>3.0</td>\n",
       "      <td>24.123333</td>\n",
       "      <td>7</td>\n",
       "      <td>Rural</td>\n",
       "    </tr>\n",
       "    <tr>\n",
       "      <th>2</th>\n",
       "      <td>Harringtonfort</td>\n",
       "      <td>6.0</td>\n",
       "      <td>33.470000</td>\n",
       "      <td>4</td>\n",
       "      <td>Rural</td>\n",
       "    </tr>\n",
       "    <tr>\n",
       "      <th>3</th>\n",
       "      <td>Jessicaport</td>\n",
       "      <td>6.0</td>\n",
       "      <td>36.013333</td>\n",
       "      <td>1</td>\n",
       "      <td>Rural</td>\n",
       "    </tr>\n",
       "    <tr>\n",
       "      <th>4</th>\n",
       "      <td>Lake Jamie</td>\n",
       "      <td>6.0</td>\n",
       "      <td>34.358333</td>\n",
       "      <td>4</td>\n",
       "      <td>Rural</td>\n",
       "    </tr>\n",
       "  </tbody>\n",
       "</table>\n",
       "</div>"
      ],
      "text/plain": [
       "             city  count       mean  driver_count   type\n",
       "0    Bradshawfurt   10.0  40.064000             7  Rural\n",
       "1       Garzaport    3.0  24.123333             7  Rural\n",
       "2  Harringtonfort    6.0  33.470000             4  Rural\n",
       "3     Jessicaport    6.0  36.013333             1  Rural\n",
       "4      Lake Jamie    6.0  34.358333             4  Rural"
      ]
     },
     "execution_count": 8,
     "metadata": {},
     "output_type": "execute_result"
    }
   ],
   "source": [
    "# repeat the same code as above for Rural data\n",
    "rural_data_df = merged_table[merged_table['type']==\"Rural\"]\n",
    "rural_data_df.head()\n",
    "groupby_city_rural = rural_data_df['fare'].groupby(rural_data_df['city'])\n",
    "\n",
    "list(rural_data_df['fare'].groupby(rural_data_df['city']))\n",
    "\n",
    "rural_city_df =pd.DataFrame(groupby_city_rural.describe())\n",
    "del rural_city_df['std']\n",
    "del rural_city_df['min']\n",
    "del rural_city_df['25%']\n",
    "del rural_city_df['50%']\n",
    "del rural_city_df['75%']\n",
    "del rural_city_df['max']\n",
    "\n",
    "rural_df = pd.merge(rural_city_df,city_data,on=\"city\",how=\"inner\")\n",
    "rural_df.head()\n",
    "\n",
    "#rural_df.plot(kind=\"scatter\", x=\"count\", y=\"mean\", grid=True,s=(rural_df['driver_count']*10),color=\"y\",alpha=.4)\n"
   ]
  },
  {
   "cell_type": "code",
   "execution_count": 9,
   "metadata": {},
   "outputs": [
    {
     "data": {
      "image/png": "[encoded data removed]",
      "text/plain": [
       "<Figure size 432x288 with 1 Axes>"
      ]
     },
     "metadata": {
      "needs_background": "light"
     },
     "output_type": "display_data"
    }
   ],
   "source": [
    "# create bubble graph to include Urban, Rural and Suburban data\n",
    "ax1 = urban_df.plot(kind=\"scatter\", x=\"count\", y=\"mean\", label='Urban', grid=True,s=(urban_df['driver_count']*8),color=\"lightcoral\",alpha=.5,)\n",
    "ax2 = suburban_df.plot(kind=\"scatter\", x=\"count\", y=\"mean\", label='Suburban', grid=True,s=(suburban_df['driver_count']*8),color=\"lightskyblue\",alpha=.7,ax=ax1)\n",
    "ax3 = rural_df.plot(kind=\"scatter\", x=\"count\", y=\"mean\", label='Rural', grid=True,s=(rural_df['driver_count']*8),color=\"goldenrod\",alpha=.6,ax=ax1)\n",
    "ax1.set_xlabel(\"Total Number of Rides (per City)\")\n",
    "ax1.set_ylabel(\"Average Fare\")\n",
    "plt.title('Pyber Ride Sharing Data(2016)')\n",
    "\n",
    "handles, labels = ax1.get_legend_handles_labels()\n",
    "ax1.legend(handles, labels)\n",
    "legend = plt.legend(title=\"City Types\", ncol=1)\n",
    "legend._legend_box.sep = 5\n",
    "\n",
    "ax1.text(45, 35, 'Note:\\nCircle size correlates with driver count per city', style='italic',\n",
    "        bbox={'facecolor':'grey', 'alpha':0.5, 'pad':8})\n",
    "plt.savefig('Pyber Bubble Plot.png')\n",
    "plt.show()\n",
    "\n",
    "\n"
   ]
  },
  {
   "cell_type": "markdown",
   "metadata": {},
   "source": [
    "## Total Fares by City Type"
   ]
  },
  {
   "cell_type": "code",
   "execution_count": 10,
   "metadata": {},
   "outputs": [],
   "source": [
    "# Calculate Type Percents\n",
    "\n",
    "# Build Pie Chart\n",
    "\n",
    "# Save Figure\n",
    "\n"
   ]
  },
  {
   "cell_type": "code",
   "execution_count": 11,
   "metadata": {},
   "outputs": [],
   "source": [
    "# extract the total fares for each city type\n",
    "urb=sum(urban_data_df['fare'])\n",
    "sub=sum(suburban_data_df['fare'])\n",
    "rur=sum(rural_data_df['fare'])"
   ]
  },
  {
   "cell_type": "code",
   "execution_count": 12,
   "metadata": {},
   "outputs": [
    {
     "data": {
      "image/png": "[encoded data removed]",
      "text/plain": [
       "<Figure size 432x288 with 1 Axes>"
      ]
     },
     "metadata": {},
     "output_type": "display_data"
    }
   ],
   "source": [
    "# creat a pie chart for total fares by city type\n",
    "city_data.head()\n",
    "city_types = [urb,sub,rur]\n",
    "city_type = ['Urban','Suburban','Rural']\n",
    "colors = [\"lightcoral\",\"lightskyblue\",\"goldenrod\"]\n",
    "explode = (0.1,0,0)\n",
    "plt.pie(city_types, explode=explode, labels=city_type, colors=colors,\n",
    "        autopct=\"%1.1f%%\", shadow=True, startangle=-100)\n",
    "# Show Figure\n",
    "plt.title(\"% of Total Fares by City Type\")\n",
    "plt.savefig('Pyber Total Fares.png')\n",
    "plt.show()\n"
   ]
  },
  {
   "cell_type": "code",
   "execution_count": null,
   "metadata": {},
   "outputs": [],
   "source": []
  },
  {
   "cell_type": "markdown",
   "metadata": {},
   "source": [
    "## Total Rides by City Type"
   ]
  },
  {
   "cell_type": "code",
   "execution_count": 13,
   "metadata": {},
   "outputs": [],
   "source": [
    "# Calculate Ride Percents\n",
    "\n",
    "# Build Pie Chart\n",
    "\n",
    "# Save Figure\n"
   ]
  },
  {
   "cell_type": "code",
   "execution_count": 14,
   "metadata": {},
   "outputs": [
    {
     "data": {
      "image/png": "[encoded data removed]",
      "text/plain": [
       "<Figure size 432x288 with 1 Axes>"
      ]
     },
     "metadata": {},
     "output_type": "display_data"
    }
   ],
   "source": [
    "# creat a pie chart for total rides by city type\n",
    "city_data.head()\n",
    "# extract total rides for each city type\n",
    "urb = len(urban_data_df)\n",
    "sub =len(suburban_data_df)\n",
    "rur = len(rural_data_df)\n",
    "city_types = [urb,sub,rur]\n",
    "city_type = ['Urban','Suburban','Rural']\n",
    "colors = [\"lightcoral\",\"lightskyblue\",\"goldenrod\"]\n",
    "explode = (0.1,0,0)\n",
    "plt.pie(city_types, explode=explode, labels=city_type, colors=colors,\n",
    "        autopct=\"%1.1f%%\", shadow=True, startangle=-100)\n",
    "# Show Figure\n",
    "plt.title(\"% of Total Rides by City Type\")\n",
    "plt.savefig('Pyber Total Rides.png')\n",
    "plt.show()\n"
   ]
  },
  {
   "cell_type": "markdown",
   "metadata": {},
   "source": [
    "## Total Drivers by City Type"
   ]
  },
  {
   "cell_type": "code",
   "execution_count": 15,
   "metadata": {},
   "outputs": [],
   "source": [
    "# Calculate Driver Percents\n",
    "\n",
    "# Build Pie Charts\n",
    "\n",
    "# Save Figure\n"
   ]
  },
  {
   "cell_type": "code",
   "execution_count": 16,
   "metadata": {},
   "outputs": [],
   "source": [
    "# extract the total driver count for each city type\n",
    "urb = sum(urban_df['driver_count'])\n",
    "sub =sum(suburban_df['driver_count'])\n",
    "rur = sum(rural_df['driver_count'])"
   ]
  },
  {
   "cell_type": "code",
   "execution_count": 17,
   "metadata": {
    "scrolled": true
   },
   "outputs": [
    {
     "data": {
      "image/png": "[encoded data removed]",
      "text/plain": [
       "<Figure size 432x288 with 1 Axes>"
      ]
     },
     "metadata": {},
     "output_type": "display_data"
    }
   ],
   "source": [
    "# creat a pie chart for total drivers by city type\n",
    "city_data.head()\n",
    "\n",
    "city_types = [urb,sub,rur]\n",
    "city_type = ['Urban','Suburban','Rural']\n",
    "colors = [\"lightcoral\",\"lightskyblue\",\"goldenrod\"]\n",
    "explode = (0.1,0,0)\n",
    "plt.pie(city_types, explode=explode, labels=city_type, colors=colors,\n",
    "        autopct=\"%1.1f%%\", shadow=True, startangle=-100)\n",
    "\n",
    "plt.title(\"% of Total Drivers by City Type\")\n",
    "plt.savefig('Pyber Total Drivers.png')\n",
    "\n",
    "plt.show()\n",
    "\n",
    "#plt.savefig('Pyber Total Drivers.png')\n"
   ]
  },
  {
   "cell_type": "code",
   "execution_count": null,
   "metadata": {},
   "outputs": [],
   "source": []
  }
 ],
 "metadata": {
  "anaconda-cloud": {},
  "kernelspec": {
   "display_name": "Python 3",
   "language": "python",
   "name": "python3"
  },
  "language_info": {
   "codemirror_mode": {
    "name": "ipython",
    "version": 3
   },
   "file_extension": ".py",
   "mimetype": "text/x-python",
   "name": "python",
   "nbconvert_exporter": "python",
   "pygments_lexer": "ipython3",
   "version": "3.7.1"
  }
 },
 "nbformat": 4,
 "nbformat_minor": 2
}
